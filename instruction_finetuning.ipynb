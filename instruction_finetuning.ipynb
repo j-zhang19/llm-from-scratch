{
 "cells": [
  {
   "cell_type": "markdown",
   "id": "01c064a2-4dc9-4966-99c1-ef73fad88098",
   "metadata": {},
   "source": [
    "# Finetuning to follow instructions"
   ]
  },
  {
   "cell_type": "markdown",
   "id": "e649fad9-ff61-4701-b94e-a4f7c01d3cb7",
   "metadata": {},
   "source": [
    "<img src=\"https://camo.githubusercontent.com/6736ab7968f8da6bd6fc747de22ef9afa9d840373749005ce3e96fc6ead7ed8c/68747470733a2f2f73656261737469616e72617363686b612e636f6d2f696d616765732f4c4c4d732d66726f6d2d736372617463682d696d616765732f636830375f636f6d707265737365642f636861707465722d6f766572766965772d312e776562703f31\" width=700>"
   ]
  },
  {
   "cell_type": "markdown",
   "id": "3aedabd5-e95d-4f3a-8e53-6b33eaf600c8",
   "metadata": {},
   "source": [
    "## Stage 1: Preparing the dataset"
   ]
  },
  {
   "cell_type": "markdown",
   "id": "eec0b84b-0c7a-44d1-ac31-dd8b2542fc3a",
   "metadata": {},
   "source": [
    "### 1. Dataset download and preparation"
   ]
  },
  {
   "cell_type": "code",
   "execution_count": 1,
   "id": "5f171008-89a9-48b3-ade3-39c78e3b288c",
   "metadata": {},
   "outputs": [],
   "source": [
    "import json\n",
    "import os\n",
    "import urllib"
   ]
  },
  {
   "cell_type": "code",
   "execution_count": 2,
   "id": "305a110e-76a7-4e79-aa06-6dcc0aaba70a",
   "metadata": {},
   "outputs": [
    {
     "name": "stdout",
     "output_type": "stream",
     "text": [
      "Number of entries: 1100\n"
     ]
    }
   ],
   "source": [
    "def download_and_load_file(file_path, url):\n",
    "\n",
    "    if not os.path.exists(file_path):\n",
    "        with urllib.request.urlopen(url) as response:\n",
    "            text_data = response.read().decode(\"utf-8\")\n",
    "        with open(file_path, \"w\", encoding=\"utf-8\") as file:\n",
    "            file.write(text_data)\n",
    "\n",
    "    # The book originally contained this unnecessary \"else\" clause:\n",
    "    #else:\n",
    "    #    with open(file_path, \"r\", encoding=\"utf-8\") as file:\n",
    "    #        text_data = file.read()\n",
    "\n",
    "    with open(file_path, \"r\", encoding=\"utf-8\") as file:\n",
    "        data = json.load(file)\n",
    "\n",
    "    return data\n",
    "\n",
    "\n",
    "file_path = \"instruction-data.json\"\n",
    "url = (\n",
    "    \"https://raw.githubusercontent.com/rasbt/LLMs-from-scratch\"\n",
    "    \"/main/ch07/01_main-chapter-code/instruction-data.json\"\n",
    ")\n",
    "\n",
    "data = download_and_load_file(file_path, url)\n",
    "print(\"Number of entries:\", len(data))"
   ]
  },
  {
   "cell_type": "code",
   "execution_count": 3,
   "id": "0a17890e-1da1-4f3a-b988-073534c4528a",
   "metadata": {},
   "outputs": [
    {
     "data": {
      "text/plain": [
       "[{'instruction': 'Identify the correct spelling of the following word.',\n",
       "  'input': 'Ocassion',\n",
       "  'output': \"The correct spelling is 'Occasion.'\"},\n",
       " {'instruction': \"What type of figurative language is used in 'She is the apple of my eye'?\",\n",
       "  'input': '',\n",
       "  'output': 'The figurative language used is a metaphor.'},\n",
       " {'instruction': 'Correct the spelling error in the sentence.',\n",
       "  'input': 'I will atend the meeting tomorrow.',\n",
       "  'output': \"The correct spelling is 'attend', not 'atend'.\"}]"
      ]
     },
     "execution_count": 3,
     "metadata": {},
     "output_type": "execute_result"
    }
   ],
   "source": [
    "data[50:53]"
   ]
  },
  {
   "cell_type": "markdown",
   "id": "010be633-8ed2-46b7-a9b5-871d66df169c",
   "metadata": {},
   "source": [
    "---"
   ]
  },
  {
   "cell_type": "markdown",
   "id": "1ba761ed-6e9a-4bd2-941b-150b7b8a3b80",
   "metadata": {},
   "source": [
    "<img src=\"https://camo.githubusercontent.com/56327c274257475f53fbb0a25fac50e703cbd67af30ff930eb3611c3356f6da6/68747470733a2f2f73656261737469616e72617363686b612e636f6d2f696d616765732f4c4c4d732d66726f6d2d736372617463682d696d616765732f636830375f636f6d707265737365642f70726f6d70742d7374796c652e776562703f31\" width=700>"
   ]
  },
  {
   "cell_type": "markdown",
   "id": "b005db51-0897-49af-b05b-232a9329d9b4",
   "metadata": {},
   "source": [
    "Left is ***Alpaca*** prompt style and right is ***Phi-3*** prompt style developped by Microsoft.\n",
    "\n",
    "We will use Alpaca prompt style."
   ]
  },
  {
   "cell_type": "code",
   "execution_count": 4,
   "id": "914160dc-4826-4aa7-8d42-4223e9a4ca22",
   "metadata": {},
   "outputs": [],
   "source": [
    "def format_input(entry):\n",
    "    instruction_text = (\n",
    "        f\"Below is an instruction that describes a task. \"\n",
    "        f\"Write a response that appropriately completes the request.\"\n",
    "        f\"\\n\\n### Instruction:\\n{entry['instruction']}\"\n",
    "    )\n",
    "\n",
    "    input_text = f\"\\n\\n### Input:\\n{entry['input']}\" if entry[\"input\"] else \"\"\n",
    "\n",
    "    return instruction_text + input_text"
   ]
  },
  {
   "cell_type": "code",
   "execution_count": 5,
   "id": "98779182-36c9-4d48-983e-6fc595e83d2b",
   "metadata": {},
   "outputs": [
    {
     "name": "stdout",
     "output_type": "stream",
     "text": [
      "Below is an instruction that describes a task. Write a response that appropriately completes the request.\n",
      "\n",
      "### Instruction:\n",
      "Identify the correct spelling of the following word.\n",
      "\n",
      "### Input:\n",
      "Ocassion\n",
      "\n",
      "### Response:\n",
      "The correct spelling is 'Occasion.'\n"
     ]
    }
   ],
   "source": [
    "print(format_input(data[50]))\n",
    "print(f\"\\n### Response:\\n{data[50]['output']}\")"
   ]
  },
  {
   "cell_type": "code",
   "execution_count": 6,
   "id": "da51cfa8-7ec5-4215-9c16-91f23733fb0d",
   "metadata": {},
   "outputs": [
    {
     "name": "stdout",
     "output_type": "stream",
     "text": [
      "Below is an instruction that describes a task. Write a response that appropriately completes the request.\n",
      "\n",
      "### Instruction:\n",
      "What type of figurative language is used in 'She is the apple of my eye'?\n",
      "\n",
      "### Response:\n",
      "The figurative language used is a metaphor.\n"
     ]
    }
   ],
   "source": [
    "print(format_input(data[51]))\n",
    "print(f\"\\n### Response:\\n{data[51]['output']}\")"
   ]
  },
  {
   "cell_type": "markdown",
   "id": "4ed71b03-7606-4eb8-abe3-4c633f16a60d",
   "metadata": {},
   "source": [
    "---"
   ]
  },
  {
   "cell_type": "code",
   "execution_count": 56,
   "id": "e50237cc-d83c-4151-945c-fe8c6742d640",
   "metadata": {},
   "outputs": [
    {
     "data": {
      "text/plain": [
       "'train_portion=935, test_portion=110, val_portion=55'"
      ]
     },
     "execution_count": 56,
     "metadata": {},
     "output_type": "execute_result"
    }
   ],
   "source": [
    "train_portion = int(len(data) * .85)\n",
    "test_portion = int(len(data) * .1)\n",
    "val_portion = len(data) - train_portion - test_portion\n",
    "\n",
    "train_data = data[:train_portion]\n",
    "test_data = data[train_portion:train_portion + test_portion]\n",
    "val_data = data[train_portion + test_portion:]\n",
    "\n",
    "f'{train_portion=}, {test_portion=}, {val_portion=}'"
   ]
  },
  {
   "cell_type": "markdown",
   "id": "1167a4fc-b85a-4ff0-abf3-1939a356609a",
   "metadata": {},
   "source": [
    "### 2. Batching the dataset"
   ]
  },
  {
   "cell_type": "markdown",
   "id": "b245e2e8-e056-4fbe-92cb-7852cbf32252",
   "metadata": {},
   "source": [
    "<img src=\"https://camo.githubusercontent.com/85ba6fcb03b3337a5d339092f86afe331e90cc77985da2cacff8f66cb26c4f59/68747470733a2f2f73656261737469616e72617363686b612e636f6d2f696d616765732f4c4c4d732d66726f6d2d736372617463682d696d616765732f636830375f636f6d707265737365642f64657461696c65642d6261746368696e672e776562703f31\" width=600>"
   ]
  },
  {
   "cell_type": "markdown",
   "id": "233ea0d2-a497-4fe2-bef4-ff6894ea7fa3",
   "metadata": {},
   "source": [
    "#### 2.1 & 2.2 - Format dataset entry\n",
    "\n",
    "<img src=\"https://camo.githubusercontent.com/b9b0cd632b51d3b6490e2ada4cf470a1ca61ff6649370c0a7cdcafe2bf7dbc77/68747470733a2f2f73656261737469616e72617363686b612e636f6d2f696d616765732f4c4c4d732d66726f6d2d736372617463682d696d616765732f636830375f636f6d707265737365642f707265746f6b656e697a696e672e77656270\" width=75%>"
   ]
  },
  {
   "cell_type": "code",
   "execution_count": 8,
   "id": "4c82538a-1cd7-416f-bc6d-90e2fb7d0b91",
   "metadata": {},
   "outputs": [],
   "source": [
    "import torch\n",
    "from torch.utils.data import Dataset"
   ]
  },
  {
   "cell_type": "code",
   "execution_count": 9,
   "id": "b15cb20a-07ee-412b-8381-1a1dc42e1a9a",
   "metadata": {},
   "outputs": [],
   "source": [
    "class InstructionDataset(Dataset):\n",
    "    def __init__(self, data, tokenizer):\n",
    "        self.data = data\n",
    "        self.encoded_text = []\n",
    "        \n",
    "        for entry in data:\n",
    "            instruction_plus_input = format_input(entry)\n",
    "            response_text = f\"\\n\\n### Response:\\n{entry['output']}\"\n",
    "            \n",
    "            full_text = instruction_plus_input + response_text\n",
    "            self.encoded_text.append(tokenizer.encode(full_text))\n",
    "            \n",
    "    def __getitem__(self, index):\n",
    "        return self.encoded_text[index]\n",
    "\n",
    "    def __len__(self):\n",
    "        return len(self.data)"
   ]
  },
  {
   "cell_type": "markdown",
   "id": "7eecf03b-16e6-4fe7-99b7-eff11f8b4277",
   "metadata": {},
   "source": [
    "#### 2.3 - Padding with `50256`\n",
    "\n",
    "<img src=\"https://camo.githubusercontent.com/3f1bcae9afed840d168ac596c1b10eb9f29a2c96938fe4ec86f5d50008829a2e/68747470733a2f2f73656261737469616e72617363686b612e636f6d2f696d616765732f4c4c4d732d66726f6d2d736372617463682d696d616765732f636830375f636f6d707265737365642f70616464696e672e77656270\" width=60%>"
   ]
  },
  {
   "cell_type": "code",
   "execution_count": 10,
   "id": "118b6c94-48a7-48fb-96f3-4a79087572f8",
   "metadata": {},
   "outputs": [],
   "source": [
    "def custom_collate_draft_1(batch, pad_token_id=50256, device='cpu'):\n",
    "    batch_max_length = max(len(item) + 1 for item in batch)\n",
    "    inputs_list = []\n",
    "    \n",
    "    for item in batch:\n",
    "        new_item = item.copy()\n",
    "        new_item += [pad_token_id]\n",
    "        \n",
    "        padded = (\n",
    "            new_item + [pad_token_id] *\n",
    "            (batch_max_length - len(new_item))\n",
    "        )\n",
    "        \n",
    "        inputs = torch.tensor(padded[:-1])\n",
    "        inputs_list.append(inputs)\n",
    "        \n",
    "    inputs_tensor = torch.stack(inputs_list).to(device)\n",
    "    \n",
    "    return inputs_tensor"
   ]
  },
  {
   "cell_type": "code",
   "execution_count": 11,
   "id": "5c9d87c0-038b-45d8-a51b-040103024311",
   "metadata": {},
   "outputs": [
    {
     "name": "stdout",
     "output_type": "stream",
     "text": [
      "tensor([[    0,     1,     2,     3,     4],\n",
      "        [    5,     6, 50256, 50256, 50256],\n",
      "        [    7,     8,     9, 50256, 50256]])\n"
     ]
    }
   ],
   "source": [
    "inputs_1 = [0, 1, 2, 3, 4]\n",
    "inputs_2 = [5, 6]\n",
    "inputs_3 = [7, 8, 9]\n",
    "batch = (\n",
    "    inputs_1,\n",
    "    inputs_2,\n",
    "    inputs_3\n",
    ")\n",
    "print(custom_collate_draft_1(batch))"
   ]
  },
  {
   "cell_type": "markdown",
   "id": "6a5ac2cb-7cf1-42d9-8ad7-34d72efcefcd",
   "metadata": {},
   "source": [
    "#### 2.4 - Create target token IDs"
   ]
  },
  {
   "cell_type": "code",
   "execution_count": 12,
   "id": "39b001d5-37e8-4f24-81b1-cccba9ef4fea",
   "metadata": {},
   "outputs": [],
   "source": [
    "def custom_collate_draft_2(batch, pad_token_id=50256, device='cpu'):\n",
    "    batch_max_length = max(len(item) + 1 for item in batch)\n",
    "    inputs_list  = []\n",
    "    targets_list = []\n",
    "    \n",
    "    for item in batch:\n",
    "        new_item = item.copy()\n",
    "        new_item += [pad_token_id]\n",
    "        \n",
    "        padded = (\n",
    "            new_item + [pad_token_id] *\n",
    "            (batch_max_length - len(new_item))\n",
    "        )\n",
    "        \n",
    "        inputs = torch.tensor(padded[:-1])\n",
    "        targets = torch.tensor(padded[1:])\n",
    "        inputs_list.append(inputs)\n",
    "        targets_list.append(targets)\n",
    "        \n",
    "    inputs_tensor  = torch.stack(inputs_list).to(device)\n",
    "    targets_tensor = torch.stack(targets_list).to(device)\n",
    "    \n",
    "    return inputs_tensor, targets_tensor"
   ]
  },
  {
   "cell_type": "code",
   "execution_count": 13,
   "id": "25fae900-6194-4b71-9be1-07c91b2f56f0",
   "metadata": {},
   "outputs": [
    {
     "data": {
      "text/plain": [
       "(tensor([[    0,     1,     2,     3,     4],\n",
       "         [    5,     6, 50256, 50256, 50256],\n",
       "         [    7,     8,     9, 50256, 50256]]),\n",
       " tensor([[    1,     2,     3,     4, 50256],\n",
       "         [    6, 50256, 50256, 50256, 50256],\n",
       "         [    8,     9, 50256, 50256, 50256]]))"
      ]
     },
     "execution_count": 13,
     "metadata": {},
     "output_type": "execute_result"
    }
   ],
   "source": [
    "custom_collate_draft_2(batch)"
   ]
  },
  {
   "cell_type": "markdown",
   "id": "3ba691ab-c4ce-40ef-b179-500f9a56f984",
   "metadata": {},
   "source": [
    "#### 2.5 - Replace padding tokens with placeholders\n",
    "\n",
    "<img src=\"https://camo.githubusercontent.com/b8fcb2f5ace86849d40ea7ca7fef93c12614ebbae302783c79a97342fd777200/68747470733a2f2f73656261737469616e72617363686b612e636f6d2f696d616765732f4c4c4d732d66726f6d2d736372617463682d696d616765732f636830375f636f6d707265737365642f69676e6f72652d696e6465782e776562703f31\" width=75%>"
   ]
  },
  {
   "cell_type": "code",
   "execution_count": 155,
   "id": "32b345b9-349a-4083-a733-8e8e572fce25",
   "metadata": {},
   "outputs": [],
   "source": [
    "def custom_collate_fn(batch, pad_token_id=50256, ignore_index=-100, allowed_max_length=None, device='cpu'):\n",
    "    batch_max_length = max(len(item) + 1 for item in batch)\n",
    "    inputs_list  = []\n",
    "    targets_list = []\n",
    "    \n",
    "    for item in batch:\n",
    "        new_item = item.copy()\n",
    "        new_item += [pad_token_id]\n",
    "        \n",
    "        padded = (\n",
    "            new_item + [pad_token_id] *\n",
    "            (batch_max_length - len(new_item))\n",
    "        )\n",
    "        \n",
    "        inputs = torch.tensor(padded[:-1])\n",
    "        targets = torch.tensor(padded[1:])\n",
    "        \n",
    "        mask = targets == pad_token_id\n",
    "        indices = torch.nonzero(mask).squeeze()\n",
    "        if indices.numel() > 1:\n",
    "            targets[indices[1:]] = ignore_index\n",
    "            \n",
    "        if allowed_max_length is not None:\n",
    "            inputs = inputs[:allowed_max_length]\n",
    "            targets = targets[:allowed_max_length]\n",
    "        \n",
    "        inputs_list.append(inputs)\n",
    "        targets_list.append(targets)\n",
    "        \n",
    "    inputs_tensor  = torch.stack(inputs_list).to(device)\n",
    "    targets_tensor = torch.stack(targets_list).to(device)\n",
    "    \n",
    "    return inputs_tensor, targets_tensor"
   ]
  },
  {
   "cell_type": "code",
   "execution_count": 156,
   "id": "7f592659-0063-4edd-b9c1-2033dae2acd4",
   "metadata": {},
   "outputs": [
    {
     "data": {
      "text/plain": [
       "(tensor([[    0,     1,     2,     3,     4],\n",
       "         [    5,     6, 50256, 50256, 50256],\n",
       "         [    7,     8,     9, 50256, 50256]]),\n",
       " tensor([[    1,     2,     3,     4, 50256],\n",
       "         [    6, 50256,  -100,  -100,  -100],\n",
       "         [    8,     9, 50256,  -100,  -100]]))"
      ]
     },
     "execution_count": 156,
     "metadata": {},
     "output_type": "execute_result"
    }
   ],
   "source": [
    "custom_collate_fn(batch)"
   ]
  },
  {
   "cell_type": "markdown",
   "id": "7e85bcb0-1cd5-410f-9ba7-7cad6be30458",
   "metadata": {},
   "source": [
    "Here we mask the padding token IDs with `-100` because it is a value that is ignored by the `cross_entropy` function!\n",
    "\n",
    "Additionnally, we can use the same masking on the instructions token IDs.\n",
    "\n",
    "<img src=\"https://camo.githubusercontent.com/e5061d1720dc8a56c789519562aa425a777971cce962c62a9ceab8b8c77fe627/68747470733a2f2f73656261737469616e72617363686b612e636f6d2f696d616765732f4c4c4d732d66726f6d2d736372617463682d696d616765732f636830375f636f6d707265737365642f6d61736b2d696e737472756374696f6e732e776562703f31\" width=75%>\n",
    "\n",
    "I will probably do it after training to see if it improves the model."
   ]
  },
  {
   "cell_type": "markdown",
   "id": "a15f9b93-e006-4b4b-828d-01655216f081",
   "metadata": {},
   "source": [
    "### 3. Creating data loaders"
   ]
  },
  {
   "cell_type": "code",
   "execution_count": 16,
   "id": "2043148d-1df8-4583-b264-91202d42a5dc",
   "metadata": {},
   "outputs": [
    {
     "data": {
      "text/plain": [
       "device(type='mps')"
      ]
     },
     "execution_count": 16,
     "metadata": {},
     "output_type": "execute_result"
    }
   ],
   "source": [
    "if torch.backends.mps.is_available():\n",
    "    device = torch.device('mps')\n",
    "else:\n",
    "    device = torch.device('cpu')\n",
    "device"
   ]
  },
  {
   "cell_type": "code",
   "execution_count": 47,
   "id": "8d3ad043-1341-4fa7-9b45-e5aa72c32966",
   "metadata": {},
   "outputs": [],
   "source": [
    "from functools import partial\n",
    "# this allows us to create a new version of a function\n",
    "# with parameters that are prefilled"
   ]
  },
  {
   "cell_type": "code",
   "execution_count": 48,
   "id": "be1df738-5869-4696-b4e4-4d4a40a5f8dd",
   "metadata": {},
   "outputs": [],
   "source": [
    "customized_collate_fn = partial(\n",
    "    custom_collate_fn,\n",
    "    device=device,\n",
    "    allowed_max_length=1024\n",
    ")"
   ]
  },
  {
   "cell_type": "code",
   "execution_count": 49,
   "id": "199fa88b-4967-4d5c-95e3-b38479879496",
   "metadata": {},
   "outputs": [],
   "source": [
    "from torch.utils.data import DataLoader\n",
    "import tiktoken"
   ]
  },
  {
   "cell_type": "code",
   "execution_count": 50,
   "id": "89bfeb89-74a6-4fc3-a416-56e9b5131aae",
   "metadata": {},
   "outputs": [],
   "source": [
    "num_workers = 0\n",
    "batch_size = 8\n",
    "\n",
    "tokenizer = tiktoken.get_encoding('gpt2')\n",
    "torch.manual_seed(123)\n",
    "\n",
    "train_dataset = InstructionDataset(train_data, tokenizer)\n",
    "train_loader = DataLoader(\n",
    "    train_dataset,\n",
    "    batch_size=batch_size,\n",
    "    collate_fn=customized_collate_fn,\n",
    "    shuffle=True,\n",
    "    drop_last=True,\n",
    "    num_workers=num_workers\n",
    ")"
   ]
  },
  {
   "cell_type": "code",
   "execution_count": 51,
   "id": "b90a7afb-5ca4-4ca1-9e7b-ac7ae1035e16",
   "metadata": {},
   "outputs": [],
   "source": [
    "val_dataset = InstructionDataset(val_data, tokenizer)\n",
    "val_loader = DataLoader(\n",
    "    val_dataset,\n",
    "    batch_size=batch_size,\n",
    "    collate_fn=customized_collate_fn,\n",
    "    shuffle=False,\n",
    "    drop_last=False,\n",
    "    num_workers=num_workers\n",
    ")\n",
    "test_dataset = InstructionDataset(test_data, tokenizer)\n",
    "test_loader = DataLoader(\n",
    "    test_dataset,\n",
    "    batch_size=batch_size,\n",
    "    collate_fn=customized_collate_fn,\n",
    "    shuffle=False,\n",
    "    drop_last=False,\n",
    "    num_workers=num_workers\n",
    ")"
   ]
  },
  {
   "cell_type": "code",
   "execution_count": 22,
   "id": "b3119199-d95d-42ce-8bbd-e959640aab8f",
   "metadata": {},
   "outputs": [
    {
     "name": "stdout",
     "output_type": "stream",
     "text": [
      "Train loader:\n",
      "\t torch.Size([8, 61])\n",
      "\t torch.Size([8, 61])\n",
      "\t ...\n"
     ]
    }
   ],
   "source": [
    "print('Train loader:')\n",
    "for inputs, targets in train_loader:\n",
    "    print('\\t', inputs.shape)\n",
    "    print('\\t', targets.shape)\n",
    "    print('\\t ...')\n",
    "    break"
   ]
  },
  {
   "cell_type": "markdown",
   "id": "4c246572-f6cb-4d3f-ba3f-cdbd5e4d81c4",
   "metadata": {},
   "source": [
    "---"
   ]
  },
  {
   "cell_type": "markdown",
   "id": "023cedda-2818-4026-ad6d-d5e555576428",
   "metadata": {},
   "source": [
    "## Stage 2: Fine-tuning the LLM"
   ]
  },
  {
   "cell_type": "markdown",
   "id": "b78f7a39-a8c2-4697-8886-0de50c2f0c3f",
   "metadata": {},
   "source": [
    "#### 4. Loading a pretrained LLM\n",
    "\n",
    "Instead of loading the smallest 124 million parameter model,<br>\n",
    "we load the **medium version** with 355 million parameters since the 124 million model is too small for achieving qualitatively reasonable results via instruction finetuning."
   ]
  },
  {
   "cell_type": "code",
   "execution_count": 23,
   "id": "9a252333-3dd1-4014-a69b-19a11a581b73",
   "metadata": {},
   "outputs": [
    {
     "name": "stdout",
     "output_type": "stream",
     "text": [
      "File already exists and is up-to-date: gpt2/355M/checkpoint\n",
      "File already exists and is up-to-date: gpt2/355M/encoder.json\n",
      "File already exists and is up-to-date: gpt2/355M/hparams.json\n",
      "File already exists and is up-to-date: gpt2/355M/model.ckpt.data-00000-of-00001\n",
      "File already exists and is up-to-date: gpt2/355M/model.ckpt.index\n",
      "File already exists and is up-to-date: gpt2/355M/model.ckpt.meta\n",
      "File already exists and is up-to-date: gpt2/355M/vocab.bpe\n"
     ]
    }
   ],
   "source": [
    "from llms_from_scratch.ch04 import GPTModel\n",
    "from llms_from_scratch.ch05 import download_and_load_gpt2, load_weights_into_gpt\n",
    "\n",
    "\n",
    "BASE_CONFIG = {\n",
    "    \"vocab_size\": 50257,     # Vocabulary size\n",
    "    \"context_length\": 1024,  # Context length\n",
    "    \"drop_rate\": 0.0,        # Dropout rate\n",
    "    \"qkv_bias\": True         # Query-key-value bias\n",
    "}\n",
    "\n",
    "model_configs = {\n",
    "    \"gpt2-small (124M)\": {\"emb_dim\": 768, \"n_layers\": 12, \"n_heads\": 12},\n",
    "    \"gpt2-medium (355M)\": {\"emb_dim\": 1024, \"n_layers\": 24, \"n_heads\": 16},\n",
    "    \"gpt2-large (774M)\": {\"emb_dim\": 1280, \"n_layers\": 36, \"n_heads\": 20},\n",
    "    \"gpt2-xl (1558M)\": {\"emb_dim\": 1600, \"n_layers\": 48, \"n_heads\": 25},\n",
    "}\n",
    "\n",
    "CHOOSE_MODEL = \"gpt2-medium (355M)\"\n",
    "\n",
    "BASE_CONFIG.update(model_configs[CHOOSE_MODEL])\n",
    "\n",
    "model_size = CHOOSE_MODEL.split(\" \")[-1].lstrip(\"(\").rstrip(\")\")\n",
    "settings, params = download_and_load_gpt2(\n",
    "    model_size=model_size,\n",
    "    models_dir=\"gpt2\"\n",
    ")\n",
    "\n",
    "model = GPTModel(BASE_CONFIG)\n",
    "load_weights_into_gpt(model, params)\n",
    "model.eval();"
   ]
  },
  {
   "cell_type": "code",
   "execution_count": 24,
   "id": "4765dc13-260c-48d7-b4a4-300d68f28a95",
   "metadata": {},
   "outputs": [
    {
     "name": "stdout",
     "output_type": "stream",
     "text": [
      "Below is an instruction that describes a task. Write a response that appropriately completes the request.\n",
      "\n",
      "### Instruction:\n",
      "Convert the active sentence to passive: 'The chef cooks the meal every day.'\n"
     ]
    }
   ],
   "source": [
    "torch.manual_seed(123)\n",
    "input_text = format_input(val_data[0])\n",
    "print(input_text)"
   ]
  },
  {
   "cell_type": "code",
   "execution_count": 28,
   "id": "e6cc5a13-1c3c-4638-85bd-3ef1cb0869d0",
   "metadata": {},
   "outputs": [],
   "source": [
    "from llms_from_scratch.ch05 import generate, text_to_token_ids, token_ids_to_text"
   ]
  },
  {
   "cell_type": "code",
   "execution_count": 29,
   "id": "1ff9d999-4c58-4e2e-8a2c-afd64df9f3b9",
   "metadata": {},
   "outputs": [
    {
     "name": "stdout",
     "output_type": "stream",
     "text": [
      "CPU times: user 28 s, sys: 1.46 s, total: 29.5 s\n",
      "Wall time: 7.45 s\n"
     ]
    }
   ],
   "source": [
    "%%time\n",
    "token_ids = generate(\n",
    "    model=model,\n",
    "    idx=text_to_token_ids(input_text, tokenizer),\n",
    "    max_new_tokens=35,\n",
    "    context_size=BASE_CONFIG[\"context_length\"],\n",
    "    eos_id=50256,\n",
    ")"
   ]
  },
  {
   "cell_type": "code",
   "execution_count": 31,
   "id": "bdf10601-a283-4c6a-a636-02ba6f3b6fb4",
   "metadata": {},
   "outputs": [
    {
     "name": "stdout",
     "output_type": "stream",
     "text": [
      "### Response:\n",
      "\n",
      "The chef cooks the meal every day.\n",
      "\n",
      "### Instruction:\n",
      "\n",
      "Convert the active sentence to passive: 'The chef cooks the\n"
     ]
    }
   ],
   "source": [
    "generated_text = token_ids_to_text(token_ids, tokenizer)\n",
    "print(generated_text[len(input_text):].strip())"
   ]
  },
  {
   "cell_type": "markdown",
   "id": "b9bf1fe8-d7d6-4bf7-af73-e7b707ebcbd3",
   "metadata": {},
   "source": [
    "#### 5. Instruction fine-tuning the LLM"
   ]
  },
  {
   "cell_type": "code",
   "execution_count": 32,
   "id": "eaa5372e-5312-4e4b-a2bc-79c299640ecc",
   "metadata": {},
   "outputs": [],
   "source": [
    "from llms_from_scratch.ch05 import calc_loss_loader, train_model_simple"
   ]
  },
  {
   "cell_type": "code",
   "execution_count": 35,
   "id": "7f0582df-c77e-48d6-b306-f659caa5d951",
   "metadata": {},
   "outputs": [],
   "source": [
    "model.to(device);"
   ]
  },
  {
   "cell_type": "code",
   "execution_count": 36,
   "id": "c80124e1-f855-4acf-8fb0-8594c98a47ed",
   "metadata": {},
   "outputs": [
    {
     "data": {
      "text/plain": [
       "(3.825910711288452, 3.761934995651245)"
      ]
     },
     "execution_count": 36,
     "metadata": {},
     "output_type": "execute_result"
    }
   ],
   "source": [
    "torch.manual_seed(123)\n",
    "with torch.no_grad():\n",
    "    train_loss = calc_loss_loader(train_loader, model, device, num_batches=5)\n",
    "    val_loss = calc_loss_loader(val_loader, model, device, num_batches=5)\n",
    "\n",
    "\n",
    "train_loss, val_loss"
   ]
  },
  {
   "cell_type": "markdown",
   "id": "19cb6c03-af51-49fa-b046-b4becdad4518",
   "metadata": {},
   "source": [
    "---"
   ]
  },
  {
   "cell_type": "code",
   "execution_count": 42,
   "id": "a12a0d8a-9c54-4a51-a444-40092a2bbd59",
   "metadata": {},
   "outputs": [
    {
     "name": "stdout",
     "output_type": "stream",
     "text": [
      "CPU times: user 4 μs, sys: 14 μs, total: 18 μs\n",
      "Wall time: 21.9 μs\n"
     ]
    }
   ],
   "source": [
    "# this will take a long time on my personal machine\n",
    "# run this on a powerful gpu or on the cloud\n",
    "%time\n",
    "if False:\n",
    "    torch.manual_seed(123)\n",
    "    optimizer = torch.optim.AdamW(\n",
    "        model.parameters(), lr=0.00005, weight_decay=0.1\n",
    "    )\n",
    "    num_epochs = 2\n",
    "    \n",
    "    train_losses, val_losses, tokens_seen = train_model_simple(\n",
    "        model, train_loader, val_loader, optimizer, device,\n",
    "        num_epochs=num_epochs, eval_freq=5, eval_iter=5,\n",
    "        start_context=format_input(val_data[0]), tokenizer=tokenizer\n",
    "    )\n",
    "else:\n",
    "    # loading a model trained for 2 epochs\n",
    "    model_state_dict = torch.load('instruction_model.pth', map_location=device)\n",
    "    model.load_state_dict(model_state_dict)"
   ]
  },
  {
   "cell_type": "markdown",
   "id": "cfe01b2f-d296-4a86-a251-3f1cd22278af",
   "metadata": {},
   "source": [
    "<img src=\"plot2.png\">"
   ]
  },
  {
   "cell_type": "markdown",
   "id": "0ed2461a-cac3-4013-9d1f-def2bc1b76de",
   "metadata": {},
   "source": [
    "## Stage 3: Evaluating the LLM"
   ]
  },
  {
   "cell_type": "markdown",
   "id": "030e86eb-4194-40a1-9595-9d42447b22f3",
   "metadata": {},
   "source": [
    "### 7. Extracting responses"
   ]
  },
  {
   "cell_type": "code",
   "execution_count": 57,
   "id": "ad91dbad-9b60-43da-8420-8c328a6aa628",
   "metadata": {},
   "outputs": [
    {
     "name": "stdout",
     "output_type": "stream",
     "text": [
      "Below is an instruction that describes a task. Write a response that appropriately completes the request.\n",
      "\n",
      "### Instruction:\n",
      "Rewrite the sentence using a simile.\n",
      "\n",
      "### Input:\n",
      "The car is very fast.\n",
      "\n",
      "Correct response:\n",
      ">> The car is as fast as lightning.\n",
      "\n",
      "Model response:\n",
      ">> The car is as fast as a bullet.\n",
      "-------------------------------------\n",
      "CPU times: user 1.25 s, sys: 2.59 s, total: 3.84 s\n",
      "Wall time: 11.6 s\n"
     ]
    }
   ],
   "source": [
    "%%time\n",
    "torch.manual_seed(123)\n",
    "\n",
    "for entry in test_data[:1]:\n",
    "    input_text = format_input(entry)\n",
    "    token_ids = generate(\n",
    "        model=model,\n",
    "        idx=text_to_token_ids(input_text, tokenizer).to(device),\n",
    "        max_new_tokens=256,\n",
    "        context_size=BASE_CONFIG[\"context_length\"],\n",
    "        eos_id=50256\n",
    "    )\n",
    "    generated_text = token_ids_to_text(token_ids, tokenizer)\n",
    "\n",
    "    response_text = (\n",
    "        generated_text[len(input_text):]\n",
    "        .replace(\"### Response:\", \"\")\n",
    "        .strip()\n",
    "    )\n",
    "    print(input_text)\n",
    "    print(f\"\\nCorrect response:\\n>> {entry['output']}\")\n",
    "    print(f\"\\nModel response:\\n>> {response_text.strip()}\")\n",
    "    print(\"-------------------------------------\")"
   ]
  },
  {
   "cell_type": "markdown",
   "id": "b68f0903-a30b-43dd-8d2f-bd414104c274",
   "metadata": {},
   "source": [
    "### 8. Qualitative evaluation"
   ]
  },
  {
   "cell_type": "markdown",
   "id": "c8ed9b9a-8a3b-4fa1-bba5-a5e466e959da",
   "metadata": {},
   "source": [
    "Model evaluation is not as straightforward as in the previous chapter, where we just had to calculate the percentage of correct spam/non-spam class labels to obtain the classification accuracy.\n",
    "\n",
    "In practice, instruction-finetuned LLMs such as chatbots are evaluated via multiple approaches\n",
    "\n",
    "- short-answer and multiple choice benchmarks such as MMLU (\"Measuring Massive Multitask Language Understanding\", https://arxiv.org/abs/2009.03300), which test the knowledge of a model\n",
    "- human preference comparison to other LLMs, such as LMSYS chatbot arena (https://arena.lmsys.org)\n",
    "- automated conversational benchmarks, where another LLM like GPT-4 is used to evaluate the responses, such as AlpacaEval (https://tatsu-lab.github.io/alpaca_eval/)\n",
    "\n",
    "In the next section, we will use an approach similar to AlpacaEval and use another LLM to evaluate the responses of our model; however, we will use our own test set instead of using a publicly available benchmark dataset\n",
    "\n",
    "For this, we add the model response to the `test_data` dictionary and save it as a `\"instruction-data-with-response.json\"` file for record-keeping so that we can load and analyze it in separate Python sessions if needed."
   ]
  },
  {
   "cell_type": "code",
   "execution_count": 71,
   "id": "8662d85c-842a-46a5-8a9e-3fb363b531a0",
   "metadata": {},
   "outputs": [
    {
     "name": "stdout",
     "output_type": "stream",
     "text": [
      "[\n",
      "  \"[\",\n",
      "  \"    {\",\n",
      "  \"        \\\"instruction\\\": \\\"Rewrite the sentence using a simile.\\\",\",\n",
      "  \"        \\\"input\\\": \\\"The car is very fast.\\\",\",\n",
      "  \"        \\\"output\\\": \\\"The car is as fast as lightning.\\\",\",\n",
      "  \"        \\\"model_response\\\": \\\"The car is as fast as a bullet.\\\"\",\n",
      "  \"    },\",\n",
      "  \"    {\",\n",
      "  \"        \\\"instruction\\\": \\\"What type of cloud is typically associated with thunderstorms?\\\",\",\n",
      "  \"        \\\"input\\\": \\\"\\\",\",\n",
      "  \"        \\\"output\\\": \\\"The type of cloud typically associated with thunderstorms is cumulonimbus.\\\",\",\n",
      "  \"        \\\"model_response\\\": \\\"The type of cloud associated with thunderstorms is a cumulus cloud.\\\"\",\n",
      "  \"    },\",\n",
      "  \"    {\",\n",
      "  \"        \\\"instruction\\\": \\\"Name the author of 'Pride and Prejudice'.\\\",\",\n",
      "  \"        \\\"input\\\": \\\"\\\",\",\n",
      "  \"        \\\"output\\\": \\\"Jane Austen.\\\",\",\n",
      "  \"        \\\"model_response\\\": \\\"The author of 'Pride and Prejudice' is Jane Austen.\\\"\",\n",
      "  \"    },\",\n",
      "  \"    {\",\n",
      "  \"        \\\"instruction\\\": \\\"What is the periodic symbol for chlorine?\\\",\",\n",
      "  \"        \\\"input\\\": \\\"\\\",\",\n",
      "  \"        \\\"output\\\": \\\"The periodic symbol for chlorine is Cl.\\\",\",\n",
      "  \"        \\\"model_response\\\": \\\"The periodic symbol for chlorine is C.\\\"\",\n",
      "  \"    },\",\n",
      "  \"    {\",\n",
      "  \"        \\\"instruction\\\": \\\"Correct the punctuation in the sentence.\\\",\",\n",
      "  \"        \\\"input\\\": \\\"Its time to go home.\\\",\",\n",
      "  \"        \\\"output\\\": \\\"The corrected sentence should be: 'It's time to go home.'\\\",\",\n",
      "  \"        \\\"model_response\\\": \\\"It's time to go home.\\\"\"\n",
      "]\n"
     ]
    }
   ],
   "source": [
    "# instruction-data-with-response.json$\n",
    "with open(\"instruction-data-with-response.json\", 'r') as f:\n",
    "    print(json.dumps(f.read().split(\"\\n\")[:30], indent=2))"
   ]
  },
  {
   "cell_type": "markdown",
   "id": "7f03b2ef-cbe9-4834-8249-1012b753a01e",
   "metadata": {},
   "source": [
    "### 9. Scoring the responses"
   ]
  },
  {
   "cell_type": "code",
   "execution_count": 84,
   "id": "d01a54e4-639c-435a-ae91-5eaef4611f93",
   "metadata": {},
   "outputs": [
    {
     "name": "stdout",
     "output_type": "stream",
     "text": [
      "Ollama running: True\n"
     ]
    }
   ],
   "source": [
    "import psutil\n",
    "\n",
    "def check_if_running(process_name):\n",
    "    running = False\n",
    "    for proc in psutil.process_iter([\"name\"]):\n",
    "        if process_name in proc.info[\"name\"]:\n",
    "            running = True\n",
    "            break\n",
    "    return running\n",
    "\n",
    "ollama_running = check_if_running(\"ollama\")\n",
    "\n",
    "if not ollama_running:\n",
    "    raise RuntimeError(\n",
    "        \"Ollama not running. Launch ollama before proceeding.\"\n",
    ")\n",
    "print(\"Ollama running:\", check_if_running(\"ollama\"))"
   ]
  },
  {
   "cell_type": "markdown",
   "id": "f60e3e7a-084d-44b2-a42f-0140f3cee6ae",
   "metadata": {},
   "source": [
    "---"
   ]
  },
  {
   "cell_type": "code",
   "execution_count": 83,
   "id": "842c53d7-141f-4663-8e6d-3563b93e2312",
   "metadata": {},
   "outputs": [],
   "source": [
    "# This cell is optional; it allows you to restart the notebook\n",
    "# and only run section 9. without rerunning any of the previous code\n",
    "import json\n",
    "from tqdm import tqdm\n",
    "\n",
    "file_path = \"instruction-data-with-response.json\"\n",
    "\n",
    "with open(file_path, \"r\") as file:\n",
    "    test_data = json.load(file)\n",
    "\n",
    "\n",
    "def format_input(entry):\n",
    "    instruction_text = (\n",
    "        f\"Below is an instruction that describes a task. \"\n",
    "        f\"Write a response that appropriately completes the request.\"\n",
    "        f\"\\n\\n### Instruction:\\n{entry['instruction']}\"\n",
    "    )\n",
    "\n",
    "    input_text = f\"\\n\\n### Input:\\n{entry['input']}\" if entry[\"input\"] else \"\"\n",
    "\n",
    "    return instruction_text + input_text"
   ]
  },
  {
   "cell_type": "markdown",
   "id": "e8664776-bc91-40f7-8b1a-bb228fc4b9d8",
   "metadata": {},
   "source": [
    "---"
   ]
  },
  {
   "cell_type": "code",
   "execution_count": 85,
   "id": "b9c26551-2b3a-49ae-8b3c-672139f784e5",
   "metadata": {},
   "outputs": [],
   "source": [
    "import urllib.request\n",
    "\n",
    "def query_model(prompt, model=\"llama3\", url=\"http://localhost:11434/api/chat\"):\n",
    "    # Create the data payload as a dictionary\n",
    "    data = {\n",
    "        \"model\": model,\n",
    "        \"messages\": [\n",
    "            {\"role\": \"user\", \"content\": prompt}\n",
    "        ],\n",
    "        \"options\": {     # Settings below are required for deterministic responses\n",
    "            \"seed\": 123,\n",
    "            \"temperature\": 0,\n",
    "            \"num_ctx\": 2048\n",
    "        }\n",
    "    }\n",
    "\n",
    "\n",
    "    # Convert the dictionary to a JSON formatted string and encode it to bytes\n",
    "    payload = json.dumps(data).encode(\"utf-8\")\n",
    "\n",
    "    # Create a request object, setting the method to POST and adding necessary headers\n",
    "    request = urllib.request.Request(\n",
    "        url,\n",
    "        data=payload,\n",
    "        method=\"POST\"\n",
    "    )\n",
    "    request.add_header(\"Content-Type\", \"application/json\")\n",
    "\n",
    "    # Send the request and capture the response\n",
    "    response_data = \"\"\n",
    "    with urllib.request.urlopen(request) as response:\n",
    "        # Read and decode the response\n",
    "        while True:\n",
    "            line = response.readline().decode(\"utf-8\")\n",
    "            if not line:\n",
    "                break\n",
    "            response_json = json.loads(line)\n",
    "            response_data += response_json[\"message\"][\"content\"]\n",
    "\n",
    "    return response_data"
   ]
  },
  {
   "cell_type": "code",
   "execution_count": 90,
   "id": "1cd20656-9ae8-498e-8b28-b7b348ee6fba",
   "metadata": {},
   "outputs": [
    {
     "name": "stdout",
     "output_type": "stream",
     "text": [
      "Llamas are herbivores, which means they primarily eat plants and plant-based foods. Their diet typically consists of:\n",
      "\n",
      "1. Grasses: Llamas love to graze on various types of grasses, including tall grasses, short grasses, and grassy weeds.\n",
      "2. Hay: High-quality hay, such as timothy hay or alfalfa hay, is a staple in a llama's diet. It provides essential nutrients like fiber, protein, and vitamins.\n",
      "3. Grains: Llamas may also be fed grains like oats, barley, or corn, but these should not make up more than 10% of their diet.\n",
      "4. Fruits and vegetables: Fresh fruits and vegetables, such as apples, carrots, and sweet potatoes, can be given to llamas as treats or added to their hay.\n",
      "5. Browse: Llamas may also eat browse, which includes leaves, twigs, and other vegetation from trees and shrubs.\n",
      "\n",
      "It's essential to note that llamas have a unique digestive system, with a four-chambered stomach, which allows them to break down and extract nutrients from plant material more efficiently than many other animals. However, this also means they can be prone to certain health issues if their diet is not balanced or if they eat too much of the wrong foods.\n",
      "\n",
      "A good rule of thumb for llama owners is to provide a high-quality hay-based diet with limited amounts of grains and treats, and to ensure access to fresh water at all times.\n"
     ]
    }
   ],
   "source": [
    "model = \"llama3.2\"\n",
    "result = query_model(\"What do Llamas eat?\", model)\n",
    "print(result)"
   ]
  },
  {
   "cell_type": "code",
   "execution_count": 93,
   "id": "1e7565cb-a456-405f-9ca5-9177584489f2",
   "metadata": {},
   "outputs": [
    {
     "name": "stdout",
     "output_type": "stream",
     "text": [
      "\n",
      "Dataset response:\n",
      ">> The car is as fast as lightning.\n",
      "\n",
      "Model response:\n",
      ">> The car is as fast as a bullet.\n",
      "\n",
      "Score:\n",
      ">> To rewrite the sentence using a simile, we need to compare the speed of the car to something else.\n",
      "\n",
      "Correct output: The car is as fast as lightning.\n",
      "\n",
      "Score: 100\n",
      "\n",
      "The model response \"The car is as fast as a bullet\" is close, but not perfect. A simile should use \"like\" or \"as\" to make the comparison, whereas \"as fast as a bullet\" implies that the car is literally a bullet, which isn't the intended meaning.\n",
      "\n",
      "A better score for the model response would be around 80-90, as it's close to the correct form but not quite there.\n",
      "\n",
      "-------------------------\n",
      "\n",
      "Dataset response:\n",
      ">> The type of cloud typically associated with thunderstorms is cumulonimbus.\n",
      "\n",
      "Model response:\n",
      ">> The type of cloud associated with thunderstorms is a cumulus cloud.\n",
      "\n",
      "Score:\n",
      ">> I would rate the model response a 20.\n",
      "\n",
      "The reason for this low score is that the model response contains an error in its classification of clouds. Cumulonimbus clouds are indeed associated with thunderstorms, but cumulus clouds are typically associated with fair weather and are often seen on warm, sunny days. The correct term should be \"cumulonimbus\" instead of \"cumulus\".\n",
      "\n",
      "-------------------------\n",
      "\n",
      "Dataset response:\n",
      ">> Jane Austen.\n",
      "\n",
      "Model response:\n",
      ">> The author of 'Pride and Prejudice' is Jane Austen.\n",
      "\n",
      "Score:\n",
      ">> ### Input\n",
      "Name the author of 'Pride and Prejudice'.\n",
      "\n",
      "### Output\n",
      "Jane Austen.\n",
      "\n",
      "### Score: 100/100\n",
      "\n",
      "The response is correct because it directly answers the question by providing the name of the author of \"Pride and Prejudice\". The sentence structure is simple and clear, making it easy to understand. There are no grammatical errors or ambiguities in the response.\n",
      "\n",
      "-------------------------\n"
     ]
    }
   ],
   "source": [
    "for entry in test_data[:3]:\n",
    "    prompt = (\n",
    "        f\"Given the input `{format_input(entry)}` \"\n",
    "        f\"and correct output `{entry['output']}`, \"\n",
    "        f\"score the model response `{entry['model_response']}`\"\n",
    "        f\" on a scale from 0 to 100, where 100 is the best score. \"\n",
    "    )\n",
    "    print(\"\\nDataset response:\")\n",
    "    print(\">>\", entry['output'])\n",
    "    print(\"\\nModel response:\")\n",
    "    print(\">>\", entry[\"model_response\"])\n",
    "    print(\"\\nScore:\")\n",
    "    print(\">>\", query_model(prompt, model))\n",
    "    print(\"\\n-------------------------\")"
   ]
  },
  {
   "cell_type": "code",
   "execution_count": 88,
   "id": "d3415757-60ca-4c1e-a59d-08f81db0dd34",
   "metadata": {},
   "outputs": [],
   "source": [
    "def generate_model_scores(json_data, json_key, model=\"llama3.2\"):\n",
    "    scores = []\n",
    "    for entry in tqdm(json_data, desc=\"Scoring entries\"):\n",
    "        prompt = (\n",
    "            f\"Given the input `{format_input(entry)}` \"\n",
    "            f\"and correct output `{entry['output']}`, \"\n",
    "            f\"score the model response `{entry[json_key]}`\"\n",
    "            f\" on a scale from 0 to 100, where 100 is the best score. \"\n",
    "            f\"Respond with the integer number only.\"   #1\n",
    "        )\n",
    "        score = query_model(prompt, model)\n",
    "        try:\n",
    "            scores.append(int(score))\n",
    "        except ValueError:\n",
    "            print(f\"Could not convert score: {score}\")\n",
    "            continue\n",
    "\n",
    "    return scores"
   ]
  },
  {
   "cell_type": "code",
   "execution_count": 96,
   "id": "9ccfaf13-1d75-4fbf-8389-737614acaf21",
   "metadata": {},
   "outputs": [],
   "source": [
    "# I will generate the scores on a more powerful GPU because mine is too weak ⚰\n",
    "\"\"\"\n",
    "scores = generate_model_scores(test_data, \"model_response\")\n",
    "print(f\"Number of scores: {len(scores)} of {len(test_data)}\")\n",
    "print(f\"Average score: {sum(scores)/len(scores):.2f}\\n\")\n",
    "\"\"\";\n",
    "# Number of scores: 96 of 110\n",
    "# Average score: 50.56"
   ]
  },
  {
   "cell_type": "markdown",
   "id": "f08c9f50-f000-4fb0-ab13-1f30684ed3d3",
   "metadata": {},
   "source": [
    "Finally, we get a metric to evaluate our model : `50.56`."
   ]
  },
  {
   "cell_type": "markdown",
   "id": "32fc5405-271f-42e8-b0a7-0e38f4b7e270",
   "metadata": {},
   "source": [
    "## Bonus: 2.4, replace mask instructions to see if it improves the model"
   ]
  },
  {
   "cell_type": "markdown",
   "id": "0484ab45-e7d3-4a2c-8565-2d850a6bd673",
   "metadata": {},
   "source": [
    "<div class=\"alert alert-block alert-info\">\n",
    "<b>Reminder :</b>\n",
    "Here we mask the padding token IDs with `-100` because it is a value that is ignored by the `cross_entropy` function!\n",
    "\n",
    "Additionnally, we can use the same masking on the instructions token IDs.\n",
    "\n",
    "<img src=\"https://camo.githubusercontent.com/e5061d1720dc8a56c789519562aa425a777971cce962c62a9ceab8b8c77fe627/68747470733a2f2f73656261737469616e72617363686b612e636f6d2f696d616765732f4c4c4d732d66726f6d2d736372617463682d696d616765732f636830375f636f6d707265737365642f6d61736b2d696e737472756374696f6e732e776562703f31\" width=75%>\n",
    "</div>"
   ]
  },
  {
   "cell_type": "code",
   "execution_count": 251,
   "id": "73f53e50-99da-4ff9-a02c-a81ab3a7f5b0",
   "metadata": {},
   "outputs": [],
   "source": [
    "def custom_collate_fn_mask(batch, pad_token_id=50256, instruction_length=3, ignore_index=-100, allowed_max_length=None, device='cpu'):\n",
    "    batch_max_length = max(len(item) + 1 for item in batch)\n",
    "    inputs_list  = []\n",
    "    targets_list = []\n",
    "\n",
    "    instruction_indices = torch.arange(0, instruction_length - 1, dtype=torch.int32)\n",
    "    \n",
    "    for item in batch:\n",
    "        new_item = item.copy()\n",
    "        new_item += [pad_token_id]\n",
    "        \n",
    "        padded = (\n",
    "            new_item + [pad_token_id] *\n",
    "            (batch_max_length - len(new_item))\n",
    "        )\n",
    "        \n",
    "        inputs = torch.tensor(padded[:-1])\n",
    "        targets = torch.tensor(padded[1:])\n",
    "\n",
    "        mask = targets == pad_token_id\n",
    "        indices = torch.nonzero(mask).squeeze()\n",
    "        \n",
    "        if indices.numel() > 1:\n",
    "            #indices = torch.cat([instruction_indices, indices[1:]]))\n",
    "            print(indices[1:])\n",
    "            print(torch.cat([instruction_indices, indices[1:]]))\n",
    "            indices_2 = torch.cat([instruction_indices, indices[1:]])\n",
    "            #targets[indices[1:]] = ignore_index\n",
    "            targets[indices_2] = ignore_index\n",
    "            \n",
    "        if allowed_max_length is not None:\n",
    "            inputs = inputs[:allowed_max_length]\n",
    "            targets = targets[:allowed_max_length]\n",
    "        \n",
    "        inputs_list.append(inputs)\n",
    "        targets_list.append(targets)\n",
    "        \n",
    "    inputs_tensor  = torch.stack(inputs_list).to(device)\n",
    "    targets_tensor = torch.stack(targets_list).to(device)\n",
    "    \n",
    "    return inputs_tensor, targets_tensor"
   ]
  },
  {
   "cell_type": "code",
   "execution_count": 255,
   "id": "a4d4e71b-c617-485b-b686-53e952ccdcd3",
   "metadata": {},
   "outputs": [
    {
     "name": "stdout",
     "output_type": "stream",
     "text": [
      "tensor([5, 6, 7])\n",
      "tensor([0, 1, 5, 6, 7])\n",
      "tensor([6, 7])\n",
      "tensor([0, 1, 6, 7])\n"
     ]
    },
    {
     "data": {
      "text/plain": [
       "(tensor([[   -1,    -1,    -1,     0,     1,     2,     3,     4],\n",
       "         [   -1,    -1,    -1,     5,     6, 50256, 50256, 50256],\n",
       "         [   -1,    -1,    -1,     7,     8,     9, 50256, 50256]]),\n",
       " tensor([[   -1,    -1,     0,     1,     2,     3,     4, 50256],\n",
       "         [ -100,  -100,     5,     6, 50256,  -100,  -100,  -100],\n",
       "         [ -100,  -100,     7,     8,     9, 50256,  -100,  -100]]))"
      ]
     },
     "execution_count": 255,
     "metadata": {},
     "output_type": "execute_result"
    }
   ],
   "source": [
    "inputs_1 = [-1, -1, -1, 0, 1, 2, 3, 4]\n",
    "inputs_2 = [-1, -1, -1, 5, 6]\n",
    "inputs_3 = [-1, -1, -1, 7, 8, 9]\n",
    "batch = (\n",
    "    inputs_1,\n",
    "    inputs_2,\n",
    "    inputs_3\n",
    ")\n",
    "custom_collate_fn(batch)"
   ]
  },
  {
   "cell_type": "markdown",
   "id": "a259b19d-f233-46bb-8176-1d21ee67c82a",
   "metadata": {},
   "source": [
    "---"
   ]
  },
  {
   "cell_type": "markdown",
   "id": "455e2719-1d05-4de3-954b-cdb257811d3c",
   "metadata": {},
   "source": [
    "---"
   ]
  },
  {
   "cell_type": "code",
   "execution_count": 252,
   "id": "5dea8e02-2e65-411e-aff5-15c58c1029e3",
   "metadata": {},
   "outputs": [],
   "source": [
    "customized_collate_fn_mask = partial(\n",
    "    custom_collate_fn_mask,\n",
    "    device=device,\n",
    "    instruction_length=24,\n",
    "    allowed_max_length=1024\n",
    ")"
   ]
  },
  {
   "cell_type": "markdown",
   "id": "d3d56f3b-a343-4930-9687-25b9987c1183",
   "metadata": {},
   "source": [
    "Trained for 2 epochs, the loss is lower with the instructions masking :\n",
    "\n",
    "\n",
    "<img src=\"plot2_mask.png\">"
   ]
  },
  {
   "cell_type": "markdown",
   "id": "191bfc5e-889b-481b-80af-225446c20a72",
   "metadata": {},
   "source": [
    "And yet, evaluating the model with Llama 3.2 we get a lower score...\n",
    "```\n",
    "Number of scores: 95 of 110\n",
    "Average score: 46.53"
   ]
  },
  {
   "cell_type": "code",
   "execution_count": null,
   "id": "5d9083b6-b8f2-412f-9666-6c7b5a1d9d0c",
   "metadata": {},
   "outputs": [],
   "source": []
  }
 ],
 "metadata": {
  "kernelspec": {
   "display_name": "Python 3 (ipykernel)",
   "language": "python",
   "name": "python3"
  },
  "language_info": {
   "codemirror_mode": {
    "name": "ipython",
    "version": 3
   },
   "file_extension": ".py",
   "mimetype": "text/x-python",
   "name": "python",
   "nbconvert_exporter": "python",
   "pygments_lexer": "ipython3",
   "version": "3.12.9"
  }
 },
 "nbformat": 4,
 "nbformat_minor": 5
}
