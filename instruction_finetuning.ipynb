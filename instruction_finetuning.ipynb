{
 "cells": [
  {
   "cell_type": "markdown",
   "id": "01c064a2-4dc9-4966-99c1-ef73fad88098",
   "metadata": {},
   "source": [
    "# Finetuning to follow instructions"
   ]
  },
  {
   "cell_type": "markdown",
   "id": "e649fad9-ff61-4701-b94e-a4f7c01d3cb7",
   "metadata": {},
   "source": [
    "<img src=\"https://camo.githubusercontent.com/6736ab7968f8da6bd6fc747de22ef9afa9d840373749005ce3e96fc6ead7ed8c/68747470733a2f2f73656261737469616e72617363686b612e636f6d2f696d616765732f4c4c4d732d66726f6d2d736372617463682d696d616765732f636830375f636f6d707265737365642f636861707465722d6f766572766965772d312e776562703f31\" width=700>"
   ]
  },
  {
   "cell_type": "markdown",
   "id": "3aedabd5-e95d-4f3a-8e53-6b33eaf600c8",
   "metadata": {},
   "source": [
    "## Stage 1: Preparing the dataset"
   ]
  },
  {
   "cell_type": "markdown",
   "id": "eec0b84b-0c7a-44d1-ac31-dd8b2542fc3a",
   "metadata": {},
   "source": [
    "### 1. Dataset download and preparation"
   ]
  },
  {
   "cell_type": "code",
   "execution_count": 1,
   "id": "5f171008-89a9-48b3-ade3-39c78e3b288c",
   "metadata": {},
   "outputs": [],
   "source": [
    "import json\n",
    "import os\n",
    "import urllib"
   ]
  },
  {
   "cell_type": "code",
   "execution_count": 2,
   "id": "305a110e-76a7-4e79-aa06-6dcc0aaba70a",
   "metadata": {},
   "outputs": [
    {
     "name": "stdout",
     "output_type": "stream",
     "text": [
      "Number of entries: 1100\n"
     ]
    }
   ],
   "source": [
    "def download_and_load_file(file_path, url):\n",
    "\n",
    "    if not os.path.exists(file_path):\n",
    "        with urllib.request.urlopen(url) as response:\n",
    "            text_data = response.read().decode(\"utf-8\")\n",
    "        with open(file_path, \"w\", encoding=\"utf-8\") as file:\n",
    "            file.write(text_data)\n",
    "\n",
    "    # The book originally contained this unnecessary \"else\" clause:\n",
    "    #else:\n",
    "    #    with open(file_path, \"r\", encoding=\"utf-8\") as file:\n",
    "    #        text_data = file.read()\n",
    "\n",
    "    with open(file_path, \"r\", encoding=\"utf-8\") as file:\n",
    "        data = json.load(file)\n",
    "\n",
    "    return data\n",
    "\n",
    "\n",
    "file_path = \"instruction-data.json\"\n",
    "url = (\n",
    "    \"https://raw.githubusercontent.com/rasbt/LLMs-from-scratch\"\n",
    "    \"/main/ch07/01_main-chapter-code/instruction-data.json\"\n",
    ")\n",
    "\n",
    "data = download_and_load_file(file_path, url)\n",
    "print(\"Number of entries:\", len(data))"
   ]
  },
  {
   "cell_type": "code",
   "execution_count": 4,
   "id": "0a17890e-1da1-4f3a-b988-073534c4528a",
   "metadata": {},
   "outputs": [
    {
     "data": {
      "text/plain": [
       "[{'instruction': 'Identify the correct spelling of the following word.',\n",
       "  'input': 'Ocassion',\n",
       "  'output': \"The correct spelling is 'Occasion.'\"},\n",
       " {'instruction': \"What type of figurative language is used in 'She is the apple of my eye'?\",\n",
       "  'input': '',\n",
       "  'output': 'The figurative language used is a metaphor.'},\n",
       " {'instruction': 'Correct the spelling error in the sentence.',\n",
       "  'input': 'I will atend the meeting tomorrow.',\n",
       "  'output': \"The correct spelling is 'attend', not 'atend'.\"}]"
      ]
     },
     "execution_count": 4,
     "metadata": {},
     "output_type": "execute_result"
    }
   ],
   "source": [
    "data[50:53]"
   ]
  },
  {
   "cell_type": "markdown",
   "id": "010be633-8ed2-46b7-a9b5-871d66df169c",
   "metadata": {},
   "source": [
    "---"
   ]
  },
  {
   "cell_type": "markdown",
   "id": "1ba761ed-6e9a-4bd2-941b-150b7b8a3b80",
   "metadata": {},
   "source": [
    "<img src=\"https://camo.githubusercontent.com/56327c274257475f53fbb0a25fac50e703cbd67af30ff930eb3611c3356f6da6/68747470733a2f2f73656261737469616e72617363686b612e636f6d2f696d616765732f4c4c4d732d66726f6d2d736372617463682d696d616765732f636830375f636f6d707265737365642f70726f6d70742d7374796c652e776562703f31\" width=700>"
   ]
  },
  {
   "cell_type": "markdown",
   "id": "b005db51-0897-49af-b05b-232a9329d9b4",
   "metadata": {},
   "source": [
    "Left is ***Alpaca*** prompt style and right is ***Phi-3*** prompt style developped by Microsoft.\n",
    "\n",
    "We will use Alpaca prompt style."
   ]
  },
  {
   "cell_type": "code",
   "execution_count": 13,
   "id": "914160dc-4826-4aa7-8d42-4223e9a4ca22",
   "metadata": {},
   "outputs": [],
   "source": [
    "def format_input(entry):\n",
    "    instruction_text = (\n",
    "        f\"Below is an instruction that describes a task. \"\n",
    "        f\"Write a response that appropriately completes the request.\"\n",
    "        f\"\\n\\n### Instruction:\\n{entry['instruction']}\"\n",
    "    )\n",
    "\n",
    "    input_text = f\"\\n\\n### Input:\\n{entry['input']}\" if entry[\"input\"] else \"\"\n",
    "\n",
    "    return instruction_text + input_text"
   ]
  },
  {
   "cell_type": "code",
   "execution_count": 15,
   "id": "98779182-36c9-4d48-983e-6fc595e83d2b",
   "metadata": {},
   "outputs": [
    {
     "name": "stdout",
     "output_type": "stream",
     "text": [
      "Below is an instruction that describes a task. Write a response that appropriately completes the request.\n",
      "\n",
      "### Instruction:\n",
      "Identify the correct spelling of the following word.\n",
      "\n",
      "### Input:\n",
      "Ocassion\n",
      "\n",
      "### Response:\n",
      "The correct spelling is 'Occasion.'\n"
     ]
    }
   ],
   "source": [
    "print(format_input(data[50]))\n",
    "print(f\"\\n### Response:\\n{data[50]['output']}\")"
   ]
  },
  {
   "cell_type": "code",
   "execution_count": 16,
   "id": "da51cfa8-7ec5-4215-9c16-91f23733fb0d",
   "metadata": {},
   "outputs": [
    {
     "name": "stdout",
     "output_type": "stream",
     "text": [
      "Below is an instruction that describes a task. Write a response that appropriately completes the request.\n",
      "\n",
      "### Instruction:\n",
      "What type of figurative language is used in 'She is the apple of my eye'?\n",
      "\n",
      "### Response:\n",
      "The figurative language used is a metaphor.\n"
     ]
    }
   ],
   "source": [
    "print(format_input(data[51]))\n",
    "print(f\"\\n### Response:\\n{data[51]['output']}\")"
   ]
  },
  {
   "cell_type": "code",
   "execution_count": null,
   "id": "61e14469-7ba2-43fe-9c75-bd918f3fee14",
   "metadata": {},
   "outputs": [],
   "source": []
  }
 ],
 "metadata": {
  "kernelspec": {
   "display_name": "Python 3 (ipykernel)",
   "language": "python",
   "name": "python3"
  },
  "language_info": {
   "codemirror_mode": {
    "name": "ipython",
    "version": 3
   },
   "file_extension": ".py",
   "mimetype": "text/x-python",
   "name": "python",
   "nbconvert_exporter": "python",
   "pygments_lexer": "ipython3",
   "version": "3.11.5"
  }
 },
 "nbformat": 4,
 "nbformat_minor": 5
}
