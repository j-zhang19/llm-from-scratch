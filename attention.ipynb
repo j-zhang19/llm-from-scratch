{
 "cells": [
  {
   "cell_type": "code",
   "execution_count": 1,
   "id": "be948c21-1c3b-42ec-98bd-f7003c9a1cb3",
   "metadata": {},
   "outputs": [],
   "source": [
    "import torch"
   ]
  },
  {
   "cell_type": "markdown",
   "id": "4b1be159-093f-416c-b06e-814dd36cb1f8",
   "metadata": {},
   "source": [
    "$$\n",
    "\\text{Inputs}: \\mathbf{x} =\n",
    "\\begin{bmatrix}x^0 & x^1 & x^2 & \\cdots & x^T\\end{bmatrix}\n",
    "$$"
   ]
  },
  {
   "cell_type": "code",
   "execution_count": 32,
   "id": "394ad326-abe6-4ec6-9739-faba2444d20c",
   "metadata": {},
   "outputs": [],
   "source": [
    "inputs = torch.tensor(\n",
    "    [[0.43, 0.15, 0.89], # Your     (x^0)\n",
    "     [0.55, 0.87, 0.66], # journey  (x^1)\n",
    "     [0.57, 0.85, 0.64], # starts   (x^2)\n",
    "     [0.22, 0.58, 0.33], # with     (x^3)\n",
    "     [0.77, 0.25, 0.10], # one      (x^4)\n",
    "     [0.05, 0.80, 0.55]] # step     (x^5)\n",
    ")"
   ]
  },
  {
   "cell_type": "markdown",
   "id": "5b7e8ebe-030d-4323-b364-4cfa61e70f58",
   "metadata": {},
   "source": [
    "1. Compute the **attention scores**\n",
    "$$\\mathbf{w} = \\begin{bmatrix}w_0 & w_1 & w_2 & \\cdots & w_T\\end{bmatrix}$$\n",
    "where $w_i = \\mathbf{x} \\times x^i$\n",
    "\n",
    "3. Compute the **context vector**\n",
    "$$ \n",
    "\\mathbf{z} = \\begin{bmatrix}z_0 & z_1 & z_2 & \\cdots & z_T\\end{bmatrix}\n",
    "$$\n",
    "where $z_i = w_i \\times \\mathbf{x}$\n",
    "\n",
    "---"
   ]
  },
  {
   "cell_type": "markdown",
   "id": "20f84ba2-01fd-4144-b6fa-35bb9d357646",
   "metadata": {},
   "source": [
    "**Example :**<br>\n",
    "We use a query $q$, for the second input query $q = x^2 = [0.55, 0.87, 0.66]$ corresponding to the word *journey* :<br>\n",
    "1. $w_2 = \\mathbf{x} \\times q = [0.9544, 1.4950, 1.4754, 0.8434, 0.7070, 1.0865]$\n",
    "2. $z_2 = w_2 \\times \\mathbf{x} = [0.4419, 0.6515, 0.5683]$"
   ]
  },
  {
   "cell_type": "code",
   "execution_count": 14,
   "id": "9742eab8-e583-48bc-bdde-9b966bd63102",
   "metadata": {},
   "outputs": [
    {
     "name": "stdout",
     "output_type": "stream",
     "text": [
      "tensor([0.9544, 1.4950, 1.4754, 0.8434, 0.7070, 1.0865])\n",
      "tensor([0.1455, 0.2278, 0.2249, 0.1285, 0.1077, 0.1656]) sum= tensor(1.0000)\n",
      "tensor([0.1385, 0.2379, 0.2333, 0.1240, 0.1082, 0.1581]) sum= tensor(1.)\n"
     ]
    }
   ],
   "source": [
    "# 1. choose an input query (q = x^k)\n",
    "query = inputs[1]\n",
    "# 2. compute the attention scores : dot product (w^i = x^i * q)\n",
    "attn_scores_2 = torch.empty(inputs.shape[0])\n",
    "for i, x_i in enumerate(inputs):\n",
    "    attn_scores_2[i] = torch.dot(x_i, query)\n",
    "\n",
    "# 3. normalize to get the attention weights\n",
    "print(attn_scores_2)\n",
    "attn_weights_2_tmp = attn_scores_2 / attn_scores_2.sum()\n",
    "\n",
    "print(attn_weights_2_tmp, \"sum=\", attn_weights_2_tmp.sum())\n",
    "\n",
    "# (3bis. we could use softmax normalization instead)\n",
    "attn_weights_2 = torch.softmax(attn_scores_2, dim=0)\n",
    "print(attn_weights_2, \"sum=\", attn_weights_2.sum())"
   ]
  },
  {
   "cell_type": "code",
   "execution_count": 16,
   "id": "ecce2168-e0f5-41d6-8efa-286450631ce7",
   "metadata": {},
   "outputs": [
    {
     "name": "stdout",
     "output_type": "stream",
     "text": [
      "tensor([0.4419, 0.6515, 0.5683])\n"
     ]
    }
   ],
   "source": [
    "# 4. compute context vector (z^k = Σw^i * x^i)\n",
    "context_vec_2 = torch.zeros(query.shape)\n",
    "for i, x_i in enumerate(inputs):\n",
    "    context_vec_2 += attn_weights_2[i] * x_i\n",
    "\n",
    "print(context_vec_2)"
   ]
  },
  {
   "cell_type": "markdown",
   "id": "29b34d0d-61e7-441a-a418-87401168994f",
   "metadata": {},
   "source": [
    "---"
   ]
  },
  {
   "cell_type": "code",
   "execution_count": 36,
   "id": "bd38d7a6-8a83-402f-b08a-060c5aec1013",
   "metadata": {},
   "outputs": [
    {
     "data": {
      "text/plain": [
       "tensor([[0.9995, 0.9544, 0.9422, 0.4753, 0.4576, 0.6310],\n",
       "        [0.9544, 1.4950, 1.4754, 0.8434, 0.7070, 1.0865],\n",
       "        [0.9422, 1.4754, 1.4570, 0.8296, 0.7154, 1.0605],\n",
       "        [0.4753, 0.8434, 0.8296, 0.4937, 0.3474, 0.6565],\n",
       "        [0.4576, 0.7070, 0.7154, 0.3474, 0.6654, 0.2935],\n",
       "        [0.6310, 1.0865, 1.0605, 0.6565, 0.2935, 0.9450]])"
      ]
     },
     "execution_count": 36,
     "metadata": {},
     "output_type": "execute_result"
    }
   ],
   "source": [
    "# attention scores (w)\n",
    "attn_scores = torch.empty(6, 6)\n",
    "for i, x_i in enumerate(inputs):\n",
    "    for j, x_j in enumerate(inputs):\n",
    "        attn_scores[i, j] = torch.dot(x_i, x_j)\n",
    "\n",
    "attn_scores"
   ]
  },
  {
   "cell_type": "code",
   "execution_count": 39,
   "id": "49352e9e-32f3-4d5c-a038-61cd38ef42bd",
   "metadata": {},
   "outputs": [
    {
     "data": {
      "text/plain": [
       "tensor([[0.9995, 0.9544, 0.9422, 0.4753, 0.4576, 0.6310],\n",
       "        [0.9544, 1.4950, 1.4754, 0.8434, 0.7070, 1.0865],\n",
       "        [0.9422, 1.4754, 1.4570, 0.8296, 0.7154, 1.0605],\n",
       "        [0.4753, 0.8434, 0.8296, 0.4937, 0.3474, 0.6565],\n",
       "        [0.4576, 0.7070, 0.7154, 0.3474, 0.6654, 0.2935],\n",
       "        [0.6310, 1.0865, 1.0605, 0.6565, 0.2935, 0.9450]])"
      ]
     },
     "execution_count": 39,
     "metadata": {},
     "output_type": "execute_result"
    }
   ],
   "source": [
    "attn_scores = inputs @ inputs.T\n",
    "attn_scores"
   ]
  },
  {
   "cell_type": "code",
   "execution_count": 41,
   "id": "113cfeff-6ec6-43cd-88e8-3ce0c3a64161",
   "metadata": {},
   "outputs": [
    {
     "data": {
      "text/plain": [
       "tensor([[0.2098, 0.2006, 0.1981, 0.1242, 0.1220, 0.1452],\n",
       "        [0.1385, 0.2379, 0.2333, 0.1240, 0.1082, 0.1581],\n",
       "        [0.1390, 0.2369, 0.2326, 0.1242, 0.1108, 0.1565],\n",
       "        [0.1435, 0.2074, 0.2046, 0.1462, 0.1263, 0.1720],\n",
       "        [0.1526, 0.1958, 0.1975, 0.1367, 0.1879, 0.1295],\n",
       "        [0.1385, 0.2184, 0.2128, 0.1420, 0.0988, 0.1896]])"
      ]
     },
     "execution_count": 41,
     "metadata": {},
     "output_type": "execute_result"
    }
   ],
   "source": [
    "# normalization to get attention weights\n",
    "attn_weights = torch.softmax(attn_scores, dim=-1)\n",
    "attn_weights"
   ]
  },
  {
   "cell_type": "code",
   "execution_count": 43,
   "id": "7f55edff-4888-4d74-b8ab-ea8d6ae83614",
   "metadata": {},
   "outputs": [
    {
     "data": {
      "text/plain": [
       "tensor([[0.4421, 0.5931, 0.5790],\n",
       "        [0.4419, 0.6515, 0.5683],\n",
       "        [0.4431, 0.6496, 0.5671],\n",
       "        [0.4304, 0.6298, 0.5510],\n",
       "        [0.4671, 0.5910, 0.5266],\n",
       "        [0.4177, 0.6503, 0.5645]])"
      ]
     },
     "execution_count": 43,
     "metadata": {},
     "output_type": "execute_result"
    }
   ],
   "source": [
    "# context vectors (z)\n",
    "all_context_vecs = attn_weights @ inputs\n",
    "all_context_vecs"
   ]
  },
  {
   "cell_type": "markdown",
   "id": "0d6d4f13-8af6-4f54-9e00-a19e96f4f740",
   "metadata": {},
   "source": [
    "---"
   ]
  },
  {
   "cell_type": "markdown",
   "id": "2ab8ff37-b01c-4a5d-ac60-5d2fdabd1c62",
   "metadata": {},
   "source": [
    "### Adding trainable weights"
   ]
  },
  {
   "cell_type": "code",
   "execution_count": null,
   "id": "1836bf3a-a2f4-4ae1-870d-3ed7ecbb98c9",
   "metadata": {},
   "outputs": [],
   "source": []
  }
 ],
 "metadata": {
  "kernelspec": {
   "display_name": "Python 3 (ipykernel)",
   "language": "python",
   "name": "python3"
  },
  "language_info": {
   "codemirror_mode": {
    "name": "ipython",
    "version": 3
   },
   "file_extension": ".py",
   "mimetype": "text/x-python",
   "name": "python",
   "nbconvert_exporter": "python",
   "pygments_lexer": "ipython3",
   "version": "3.11.5"
  }
 },
 "nbformat": 4,
 "nbformat_minor": 5
}
